{
 "cells": [
  {
   "cell_type": "markdown",
   "metadata": {},
   "source": [
    "# Manufactured solution"
   ]
  },
  {
   "cell_type": "markdown",
   "metadata": {},
   "source": [
    "### Run this and the forcing term for the choosen solution will be printed"
   ]
  },
  {
   "cell_type": "code",
   "execution_count": 8,
   "metadata": {},
   "outputs": [
    {
     "name": "stdout",
     "output_type": "stream",
     "text": [
      "Forcing term in 1/Re formulation without pressure:\n",
      "f_1 = (Re*(-2*sin(t)**2*sin(y)**2*cos(x) - sin(t)**2*sin(z)**2*cos(x) + 2*sin(t)**2*cos(x) + sin(z)*cos(t)*cos(y)) + 3*sin(t)*sin(z)*cos(y))*sin(x)/Re\n",
      "f_2 = (Re*(-2*sin(t)**2*sin(x)**2*cos(y) - sin(t)**2*sin(z)**2*cos(y) + 2*sin(t)**2*cos(y) + sin(z)*cos(t)*cos(x)) + 3*sin(t)*sin(z)*cos(x))*sin(y)/Re\n",
      "f_3 = 2*(Re*(sin(t)**2*sin(x)**2*sin(z) + sin(t)**2*sin(y)**2*sin(z) - 2*sin(t)**2*sin(z) + cos(t)*cos(x)*cos(y)) + 3*sin(t)*cos(x)*cos(y))*cos(z)/Re\n"
     ]
    }
   ],
   "source": [
    "import sympy as sp\n",
    "\n",
    "# Define the variables\n",
    "x, y, z, t = sp.symbols('x y z t')\n",
    "\n",
    "# Define the velocity components (manufactured solution)\n",
    "u_x = sp.sin(x) * sp.cos(y) * sp.sin(z) * sp.sin(t)\n",
    "u_y = sp.cos(x) * sp.sin(y) * sp.sin(z) * sp.sin(t)\n",
    "u_z = 2 * sp.cos(x) * sp.cos(y) * sp.cos(z) * sp.sin(t)\n",
    "\n",
    "# Define the Reynolds number\n",
    "Re = sp.Symbol('Re')\n",
    "\n",
    "# Define velocity vector\n",
    "u = sp.Matrix([u_x, u_y, u_z])\n",
    "\n",
    "# Laplacian of velocity components\n",
    "laplacian_u_x = sp.diff(u_x, x, x) + sp.diff(u_x, y, y) + sp.diff(u_x, z, z)\n",
    "laplacian_u_y = sp.diff(u_y, x, x) + sp.diff(u_y, y, y) + sp.diff(u_y, z, z)\n",
    "laplacian_u_z = sp.diff(u_z, x, x) + sp.diff(u_z, y, y) + sp.diff(u_z, z, z)\n",
    "laplacian_u = sp.Matrix([laplacian_u_x, laplacian_u_y, laplacian_u_z])\n",
    "\n",
    "# Non-linear convection term: (u . grad) u\n",
    "conv_u = sp.Matrix([\n",
    "    u_x * sp.diff(u_x, x) + u_y * sp.diff(u_x, y) + u_z * sp.diff(u_x, z),\n",
    "    u_x * sp.diff(u_y, x) + u_y * sp.diff(u_y, y) + u_z * sp.diff(u_y, z),\n",
    "    u_x * sp.diff(u_z, x) + u_y * sp.diff(u_z, y) + u_z * sp.diff(u_z, z)\n",
    "])\n",
    "\n",
    "# Time derivative of velocity\n",
    "du_dt = sp.Matrix([sp.diff(u_x, t), sp.diff(u_y, t), sp.diff(u_z, t)])\n",
    "\n",
    "# Navier-Stokes equation for forcing term in 1/Re formulation without pressure\n",
    "forcing_term = du_dt + conv_u - (1/Re) * laplacian_u\n",
    "\n",
    "# Simplify each component of the forcing term for clarity\n",
    "forcing_term_simplified = forcing_term.applyfunc(sp.simplify)\n",
    "\n",
    "# Print the forcing term\n",
    "print('Forcing term:')\n",
    "for i, component in enumerate(forcing_term_simplified):\n",
    "    print(f'f_{i+1} = {component}')\n"
   ]
  }
 ],
 "metadata": {
  "kernelspec": {
   "display_name": "Python 3",
   "language": "python",
   "name": "python3"
  },
  "language_info": {
   "codemirror_mode": {
    "name": "ipython",
    "version": 3
   },
   "file_extension": ".py",
   "mimetype": "text/x-python",
   "name": "python",
   "nbconvert_exporter": "python",
   "pygments_lexer": "ipython3",
   "version": "3.11.9"
  }
 },
 "nbformat": 4,
 "nbformat_minor": 2
}
