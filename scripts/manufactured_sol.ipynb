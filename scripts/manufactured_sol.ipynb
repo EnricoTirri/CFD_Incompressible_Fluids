{
 "cells": [
  {
   "cell_type": "code",
   "execution_count": 1,
   "metadata": {},
   "outputs": [
    {
     "ename": "ModuleNotFoundError",
     "evalue": "No module named 'sympy'",
     "output_type": "error",
     "traceback": [
      "\u001b[0;31m---------------------------------------------------------------------------\u001b[0m",
      "\u001b[0;31mModuleNotFoundError\u001b[0m                       Traceback (most recent call last)",
      "Cell \u001b[0;32mIn[1], line 1\u001b[0m\n\u001b[0;32m----> 1\u001b[0m \u001b[38;5;28;01mimport\u001b[39;00m\u001b[38;5;250m \u001b[39m\u001b[38;5;21;01msympy\u001b[39;00m\u001b[38;5;250m \u001b[39m\u001b[38;5;28;01mas\u001b[39;00m\u001b[38;5;250m \u001b[39m\u001b[38;5;21;01msp\u001b[39;00m\n\u001b[1;32m      3\u001b[0m \u001b[38;5;66;03m# Define the variables\u001b[39;00m\n\u001b[1;32m      4\u001b[0m x, y, z, t \u001b[38;5;241m=\u001b[39m sp\u001b[38;5;241m.\u001b[39msymbols(\u001b[38;5;124m'\u001b[39m\u001b[38;5;124mx y z t\u001b[39m\u001b[38;5;124m'\u001b[39m)\n",
      "\u001b[0;31mModuleNotFoundError\u001b[0m: No module named 'sympy'"
     ]
    }
   ],
   "source": [
    "import sympy as sp\n",
    "\n",
    "# Define the variables\n",
    "x, y, z, t = sp.symbols('x y z t')\n",
    "\n",
    "# Define the velocity components (manufactured solution)\n",
    "u_x = sp.sin(x) * sp.cos(y) * sp.sin(z) * sp.sin(t)\n",
    "u_y = sp.cos(x) * sp.sin(y) * sp.sin(z) * sp.sin(t)\n",
    "u_z = 2*sp.cos(x) * sp.cos(y) * sp.cos(z) * sp.sin(t)\n",
    "\n",
    "# Define the pressure (manufactured solution) ... for now no pressure!\n",
    "p = sp.cos(x) * sp.cos(y) * sp.sin(z) * sp.sin(t)\n",
    "\n",
    "# Define the Reynolds number\n",
    "Re = sp.Symbol('Re')\n",
    "\n",
    "# Define velocity vector\n",
    "u = sp.Matrix([u_x, u_y, u_z])\n",
    "\n",
    "# Gradient of the pressure .... for now no pressure!!\n",
    "grad_p = sp.Matrix([sp.diff(p, x), sp.diff(p, y), sp.diff(p, z)])\n",
    "\n",
    "# Laplacian of velocity components\n",
    "laplacian_u_x = sp.diff(u_x, x, x) + sp.diff(u_x, y, y) + sp.diff(u_x, z, z)\n",
    "laplacian_u_y = sp.diff(u_y, x, x) + sp.diff(u_y, y, y) + sp.diff(u_y, z, z)\n",
    "laplacian_u_z = sp.diff(u_z, x, x) + sp.diff(u_z, y, y) + sp.diff(u_z, z, z)\n",
    "laplacian_u = sp.Matrix([laplacian_u_x, laplacian_u_y, laplacian_u_z])\n",
    "\n",
    "# Non-linear convection term: (u . grad) u\n",
    "conv_u = sp.Matrix([\n",
    "    u_x * sp.diff(u_x, x) + u_y * sp.diff(u_x, y) + u_z * sp.diff(u_x, z),\n",
    "    u_x * sp.diff(u_y, x) + u_y * sp.diff(u_y, y) + u_z * sp.diff(u_y, z),\n",
    "    u_x * sp.diff(u_z, x) + u_y * sp.diff(u_z, y) + u_z * sp.diff(u_z, z)\n",
    "])\n",
    "\n",
    "# Time derivative of velocity\n",
    "du_dt = sp.Matrix([sp.diff(u_x, t), sp.diff(u_y, t), sp.diff(u_z, t)])\n",
    "\n",
    "# Navier-Stokes equation for forcing term in 1/Re formulation: \n",
    "# for now no pressure!!!\n",
    "forcing_term = du_dt + conv_u + grad_p - (1/Re) * laplacian_u\n",
    "\n",
    "# forcing_term = du_dt + conv_u  + (1/Re) * laplacian_u\n",
    "\n",
    "# Display the forcing term\n",
    "sp.pprint(forcing_term, use_unicode=True)\n",
    "\n",
    "# Save the forcing term to a file \n",
    "# run this to get the forcing term written to a file\n",
    "with open('forcing_term.py', 'w') as f:\n",
    "    f.write('import numpy as np\\n\\n')\n",
    "    f.write('def forcing_term(x, y, z, t, Re):\\n')\n",
    "    f.write('    f = np.zeros(3)\\n')\n",
    "    f.write('    f[0] = ' + str(forcing_term[0]) + '\\n')\n",
    "    f.write('    f[1] = ' + str(forcing_term[1]) + '\\n')\n",
    "    f.write('    f[2] = ' + str(forcing_term[2]) + '\\n')\n",
    "    f.write('    return f\\n')\n"
   ]
  }
 ],
 "metadata": {
  "kernelspec": {
   "display_name": "Python 3",
   "language": "python",
   "name": "python3"
  },
  "language_info": {
   "codemirror_mode": {
    "name": "ipython",
    "version": 3
   },
   "file_extension": ".py",
   "mimetype": "text/x-python",
   "name": "python",
   "nbconvert_exporter": "python",
   "pygments_lexer": "ipython3",
   "version": "3.13.0"
  }
 },
 "nbformat": 4,
 "nbformat_minor": 2
}
